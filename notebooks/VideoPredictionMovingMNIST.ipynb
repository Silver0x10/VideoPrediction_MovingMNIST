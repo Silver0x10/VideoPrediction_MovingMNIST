{
  "cells": [
    {
      "cell_type": "code",
      "execution_count": 1,
      "metadata": {},
      "outputs": [],
      "source": [
        "%reload_ext autoreload\n",
        "%autoreload 2\n",
        "\n",
        "setup_already_done = False"
      ]
    },
    {
      "cell_type": "code",
      "execution_count": 2,
      "metadata": {},
      "outputs": [],
      "source": [
        "import sys\n",
        "import os"
      ]
    },
    {
      "cell_type": "code",
      "execution_count": 3,
      "metadata": {},
      "outputs": [
        {
          "data": {
            "text/plain": [
              "False"
            ]
          },
          "execution_count": 3,
          "metadata": {},
          "output_type": "execute_result"
        }
      ],
      "source": [
        "IN_COLAB = 'google.colab' in sys.modules\n",
        "IN_COLAB"
      ]
    },
    {
      "cell_type": "code",
      "execution_count": 4,
      "metadata": {
        "id": "DwlaqmjrMHzJ"
      },
      "outputs": [
        {
          "name": "stdout",
          "output_type": "stream",
          "text": [
            "/home/silverio/Projects/uni/DeepLearning/VideoPrediction_MovingMNIST\n",
            "Note: you may need to restart the kernel to use updated packages.\n"
          ]
        }
      ],
      "source": [
        "if not setup_already_done:\n",
        "    if(IN_COLAB):\n",
        "        !git clone https://github.com/Silver0x10/VideoPrediction_MovingMNIST.git\n",
        "        %cd VideoPrediction_MovingMNIST\n",
        "    else:\n",
        "        %cd ..\n",
        "    if(not os.path.exists(\"data/mnist_test_seq.npy\")):\n",
        "        if(not os.path.exists(\"data\")): \n",
        "            %mkdir data\n",
        "        %cd data\n",
        "        !wget -q https://www.cs.toronto.edu/~nitish/unsupervised_video/mnist_test_seq.npy\n",
        "        %cd ..\n",
        "        \n",
        "    %pip install -qr requirements.txt  --quiet\n",
        "    setup_already_done = True"
      ]
    },
    {
      "cell_type": "code",
      "execution_count": 5,
      "metadata": {},
      "outputs": [
        {
          "name": "stderr",
          "output_type": "stream",
          "text": [
            "/usr/lib/python3/dist-packages/pkg_resources/__init__.py:116: PkgResourcesDeprecationWarning: 0.1.43ubuntu1 is an invalid version and will not be supported in a future release\n",
            "  warnings.warn(\n",
            "/usr/lib/python3/dist-packages/pkg_resources/__init__.py:116: PkgResourcesDeprecationWarning: 1.1build1 is an invalid version and will not be supported in a future release\n",
            "  warnings.warn(\n"
          ]
        }
      ],
      "source": [
        "# import numpy as np\n",
        "import torch\n",
        "from torch.utils.data import Dataset, DataLoader\n",
        "# from torch import optim, nn, utils, Tensor\n",
        "# import torchvision\n",
        "# from torchvision.transforms import ToTensor\n",
        "import lightning.pytorch as pl"
      ]
    },
    {
      "cell_type": "code",
      "execution_count": 6,
      "metadata": {
        "id": "fwyp8iXhMeOV"
      },
      "outputs": [],
      "source": [
        "# !nvidia-smi"
      ]
    },
    {
      "cell_type": "code",
      "execution_count": 7,
      "metadata": {},
      "outputs": [
        {
          "data": {
            "text/plain": [
              "device(type='cuda')"
            ]
          },
          "execution_count": 7,
          "metadata": {},
          "output_type": "execute_result"
        }
      ],
      "source": [
        "device = torch.device('cuda' if torch.cuda.is_available() else 'cpu')\n",
        "device"
      ]
    },
    {
      "cell_type": "code",
      "execution_count": 8,
      "metadata": {},
      "outputs": [
        {
          "data": {
            "application/vnd.jupyter.widget-view+json": {
              "model_id": "22f0ceb48090464fa9a806868eca9999",
              "version_major": 2,
              "version_minor": 0
            },
            "text/plain": [
              "HBox(children=(Image(value=b'GIF89a@\\x00@\\x00\\x87\\x00\\x00\\xff\\xff\\xff\\xfe\\xfe\\xfe\\xfd\\xfd\\xfd\\xfc\\xfc\\xfc\\xf9\\…"
            ]
          },
          "metadata": {},
          "output_type": "display_data"
        }
      ],
      "source": [
        "from src.MovingMNIST import MovingMNIST\n",
        "\n",
        "dataset = MovingMNIST(data_path=\"data/mnist_test_seq.npy\")\n",
        "\n",
        "# Visualization Test\n",
        "dataset.visualize(0)\n"
      ]
    },
    {
      "cell_type": "code",
      "execution_count": 9,
      "metadata": {},
      "outputs": [],
      "source": [
        "loader = DataLoader(dataset)"
      ]
    },
    {
      "cell_type": "code",
      "execution_count": 10,
      "metadata": {},
      "outputs": [],
      "source": [
        "from src.simpleLSTM import simpleLSTM\n",
        "\n",
        "model = simpleLSTM()\n"
      ]
    },
    {
      "cell_type": "code",
      "execution_count": 11,
      "metadata": {},
      "outputs": [
        {
          "name": "stdout",
          "output_type": "stream",
          "text": [
            "tensor(2893.5442, grad_fn=<MseLossBackward0>)\n"
          ]
        }
      ],
      "source": [
        "for data in loader:\n",
        "    print(model.training_step(data,0))\n",
        "    break"
      ]
    },
    {
      "cell_type": "code",
      "execution_count": null,
      "metadata": {},
      "outputs": [],
      "source": [
        "# trainer = pl.Trainer(limit_train_batches=1, max_epochs=1, accelerator=\"cpu\")\n",
        "# trainer = pl.Trainer(max_epochs=1, accelerator=\"cpu\")\n",
        "# trainer = pl.Trainer(max_epochs=1, accelerator=\"gpu\")\n",
        "trainer = pl.Trainer(max_epochs=1)\n",
        "\n",
        "trainer.fit(model=model, train_dataloaders=loader)"
      ]
    }
  ],
  "metadata": {
    "colab": {
      "provenance": []
    },
    "kernelspec": {
      "display_name": "Python 3",
      "name": "python3"
    },
    "language_info": {
      "codemirror_mode": {
        "name": "ipython",
        "version": 3
      },
      "file_extension": ".py",
      "mimetype": "text/x-python",
      "name": "python",
      "nbconvert_exporter": "python",
      "pygments_lexer": "ipython3",
      "version": "3.10.6"
    }
  },
  "nbformat": 4,
  "nbformat_minor": 0
}
